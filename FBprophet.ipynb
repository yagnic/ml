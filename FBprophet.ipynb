{
  "nbformat": 4,
  "nbformat_minor": 0,
  "metadata": {
    "colab": {
      "name": "Untitled19.ipynb",
      "provenance": [],
      "authorship_tag": "ABX9TyN4dbHPcQO9hGsNV02Dqgl3",
      "include_colab_link": true
    },
    "kernelspec": {
      "name": "python3",
      "display_name": "Python 3"
    },
    "language_info": {
      "name": "python"
    }
  },
  "cells": [
    {
      "cell_type": "markdown",
      "metadata": {
        "id": "view-in-github",
        "colab_type": "text"
      },
      "source": [
        "<a href=\"https://colab.research.google.com/github/yagnic/ml/blob/master/FBprophet.ipynb\" target=\"_parent\"><img src=\"https://colab.research.google.com/assets/colab-badge.svg\" alt=\"Open In Colab\"/></a>"
      ]
    },
    {
      "cell_type": "code",
      "metadata": {
        "colab": {
          "base_uri": "https://localhost:8080/"
        },
        "id": "Eocv2U6l4LuU",
        "outputId": "cc1d8cdf-c67d-4c61-90c1-666b48689ab2"
      },
      "source": [
        "!pip install pystan fbprophet\n"
      ],
      "execution_count": 1,
      "outputs": [
        {
          "output_type": "stream",
          "text": [
            "Requirement already satisfied: pystan in /usr/local/lib/python3.7/dist-packages (2.19.1.1)\n",
            "Requirement already satisfied: fbprophet in /usr/local/lib/python3.7/dist-packages (0.7.1)\n",
            "Requirement already satisfied: Cython!=0.25.1,>=0.22 in /usr/local/lib/python3.7/dist-packages (from pystan) (0.29.24)\n",
            "Requirement already satisfied: numpy>=1.7 in /usr/local/lib/python3.7/dist-packages (from pystan) (1.19.5)\n",
            "Requirement already satisfied: cmdstanpy==0.9.5 in /usr/local/lib/python3.7/dist-packages (from fbprophet) (0.9.5)\n",
            "Requirement already satisfied: pandas>=1.0.4 in /usr/local/lib/python3.7/dist-packages (from fbprophet) (1.1.5)\n",
            "Requirement already satisfied: matplotlib>=2.0.0 in /usr/local/lib/python3.7/dist-packages (from fbprophet) (3.2.2)\n",
            "Requirement already satisfied: LunarCalendar>=0.0.9 in /usr/local/lib/python3.7/dist-packages (from fbprophet) (0.0.9)\n",
            "Requirement already satisfied: convertdate>=2.1.2 in /usr/local/lib/python3.7/dist-packages (from fbprophet) (2.3.2)\n",
            "Requirement already satisfied: holidays>=0.10.2 in /usr/local/lib/python3.7/dist-packages (from fbprophet) (0.10.5.2)\n",
            "Requirement already satisfied: setuptools-git>=1.2 in /usr/local/lib/python3.7/dist-packages (from fbprophet) (1.2)\n",
            "Requirement already satisfied: python-dateutil>=2.8.0 in /usr/local/lib/python3.7/dist-packages (from fbprophet) (2.8.2)\n",
            "Requirement already satisfied: tqdm>=4.36.1 in /usr/local/lib/python3.7/dist-packages (from fbprophet) (4.62.0)\n",
            "Requirement already satisfied: pytz>=2014.10 in /usr/local/lib/python3.7/dist-packages (from convertdate>=2.1.2->fbprophet) (2018.9)\n",
            "Requirement already satisfied: pymeeus<=1,>=0.3.13 in /usr/local/lib/python3.7/dist-packages (from convertdate>=2.1.2->fbprophet) (0.5.11)\n",
            "Requirement already satisfied: korean-lunar-calendar in /usr/local/lib/python3.7/dist-packages (from holidays>=0.10.2->fbprophet) (0.2.1)\n",
            "Requirement already satisfied: six in /usr/local/lib/python3.7/dist-packages (from holidays>=0.10.2->fbprophet) (1.15.0)\n",
            "Requirement already satisfied: hijri-converter in /usr/local/lib/python3.7/dist-packages (from holidays>=0.10.2->fbprophet) (2.1.3)\n",
            "Requirement already satisfied: ephem>=3.7.5.3 in /usr/local/lib/python3.7/dist-packages (from LunarCalendar>=0.0.9->fbprophet) (4.0.0.2)\n",
            "Requirement already satisfied: pyparsing!=2.0.4,!=2.1.2,!=2.1.6,>=2.0.1 in /usr/local/lib/python3.7/dist-packages (from matplotlib>=2.0.0->fbprophet) (2.4.7)\n",
            "Requirement already satisfied: cycler>=0.10 in /usr/local/lib/python3.7/dist-packages (from matplotlib>=2.0.0->fbprophet) (0.10.0)\n",
            "Requirement already satisfied: kiwisolver>=1.0.1 in /usr/local/lib/python3.7/dist-packages (from matplotlib>=2.0.0->fbprophet) (1.3.1)\n"
          ],
          "name": "stdout"
        }
      ]
    },
    {
      "cell_type": "code",
      "metadata": {
        "id": "g7O4p8oP4Q6b"
      },
      "source": [
        "import pandas as pd"
      ],
      "execution_count": 2,
      "outputs": []
    },
    {
      "cell_type": "code",
      "metadata": {
        "id": "r04j09lZ4bCH"
      },
      "source": [
        "import matplotlib.pyplot as plt"
      ],
      "execution_count": 3,
      "outputs": []
    },
    {
      "cell_type": "code",
      "metadata": {
        "id": "ntuX4RNh4eQa"
      },
      "source": [
        "from fbprophet import Prophet\n",
        "path=\"data.csv\""
      ],
      "execution_count": 14,
      "outputs": []
    },
    {
      "cell_type": "code",
      "metadata": {
        "id": "nRHlvaZY4hfY"
      },
      "source": [
        "df=pd.read_csv(path,header=0)"
      ],
      "execution_count": 15,
      "outputs": []
    },
    {
      "cell_type": "code",
      "metadata": {
        "colab": {
          "base_uri": "https://localhost:8080/",
          "height": 203
        },
        "id": "F6iBz_qk4klu",
        "outputId": "af0565a8-e31f-4f0d-82bd-57a9e4cef006"
      },
      "source": [
        "df.head()"
      ],
      "execution_count": 16,
      "outputs": [
        {
          "output_type": "execute_result",
          "data": {
            "text/html": [
              "<div>\n",
              "<style scoped>\n",
              "    .dataframe tbody tr th:only-of-type {\n",
              "        vertical-align: middle;\n",
              "    }\n",
              "\n",
              "    .dataframe tbody tr th {\n",
              "        vertical-align: top;\n",
              "    }\n",
              "\n",
              "    .dataframe thead th {\n",
              "        text-align: right;\n",
              "    }\n",
              "</style>\n",
              "<table border=\"1\" class=\"dataframe\">\n",
              "  <thead>\n",
              "    <tr style=\"text-align: right;\">\n",
              "      <th></th>\n",
              "      <th>OrderDate</th>\n",
              "      <th>Revenue</th>\n",
              "    </tr>\n",
              "  </thead>\n",
              "  <tbody>\n",
              "    <tr>\n",
              "      <th>0</th>\n",
              "      <td>31-05-11 0:00</td>\n",
              "      <td>2024.994</td>\n",
              "    </tr>\n",
              "    <tr>\n",
              "      <th>1</th>\n",
              "      <td>31-05-11 0:00</td>\n",
              "      <td>6074.982</td>\n",
              "    </tr>\n",
              "    <tr>\n",
              "      <th>2</th>\n",
              "      <td>31-05-11 0:00</td>\n",
              "      <td>2024.994</td>\n",
              "    </tr>\n",
              "    <tr>\n",
              "      <th>3</th>\n",
              "      <td>31-05-11 0:00</td>\n",
              "      <td>2039.994</td>\n",
              "    </tr>\n",
              "    <tr>\n",
              "      <th>4</th>\n",
              "      <td>31-05-11 0:00</td>\n",
              "      <td>2039.994</td>\n",
              "    </tr>\n",
              "  </tbody>\n",
              "</table>\n",
              "</div>"
            ],
            "text/plain": [
              "       OrderDate   Revenue\n",
              "0  31-05-11 0:00  2024.994\n",
              "1  31-05-11 0:00  6074.982\n",
              "2  31-05-11 0:00  2024.994\n",
              "3  31-05-11 0:00  2039.994\n",
              "4  31-05-11 0:00  2039.994"
            ]
          },
          "metadata": {
            "tags": []
          },
          "execution_count": 16
        }
      ]
    },
    {
      "cell_type": "code",
      "metadata": {
        "colab": {
          "base_uri": "https://localhost:8080/"
        },
        "id": "u7xNMTek4vnL",
        "outputId": "24455970-d593-4c3e-ed0c-5f36cc85d90c"
      },
      "source": [
        "df.dtypes"
      ],
      "execution_count": 17,
      "outputs": [
        {
          "output_type": "execute_result",
          "data": {
            "text/plain": [
              "OrderDate     object\n",
              "Revenue      float64\n",
              "dtype: object"
            ]
          },
          "metadata": {
            "tags": []
          },
          "execution_count": 17
        }
      ]
    },
    {
      "cell_type": "code",
      "metadata": {
        "id": "yl3fc46h6Jvr"
      },
      "source": [
        "df[\"OrderDate\"]=pd.to_datetime(df[\"OrderDate\"])"
      ],
      "execution_count": 18,
      "outputs": []
    },
    {
      "cell_type": "code",
      "metadata": {
        "colab": {
          "base_uri": "https://localhost:8080/"
        },
        "id": "gFlRXKep6YRv",
        "outputId": "c604bea8-ef97-4d56-eac8-f0252e5f7b88"
      },
      "source": [
        "df.dtypes"
      ],
      "execution_count": 19,
      "outputs": [
        {
          "output_type": "execute_result",
          "data": {
            "text/plain": [
              "OrderDate    datetime64[ns]\n",
              "Revenue             float64\n",
              "dtype: object"
            ]
          },
          "metadata": {
            "tags": []
          },
          "execution_count": 19
        }
      ]
    },
    {
      "cell_type": "code",
      "metadata": {
        "colab": {
          "base_uri": "https://localhost:8080/",
          "height": 203
        },
        "id": "WgcwUkgH6aZx",
        "outputId": "2f43cfa0-e5cf-4872-898f-e2cb0a25b523"
      },
      "source": [
        "df.head()"
      ],
      "execution_count": 20,
      "outputs": [
        {
          "output_type": "execute_result",
          "data": {
            "text/html": [
              "<div>\n",
              "<style scoped>\n",
              "    .dataframe tbody tr th:only-of-type {\n",
              "        vertical-align: middle;\n",
              "    }\n",
              "\n",
              "    .dataframe tbody tr th {\n",
              "        vertical-align: top;\n",
              "    }\n",
              "\n",
              "    .dataframe thead th {\n",
              "        text-align: right;\n",
              "    }\n",
              "</style>\n",
              "<table border=\"1\" class=\"dataframe\">\n",
              "  <thead>\n",
              "    <tr style=\"text-align: right;\">\n",
              "      <th></th>\n",
              "      <th>OrderDate</th>\n",
              "      <th>Revenue</th>\n",
              "    </tr>\n",
              "  </thead>\n",
              "  <tbody>\n",
              "    <tr>\n",
              "      <th>0</th>\n",
              "      <td>2011-05-31</td>\n",
              "      <td>2024.994</td>\n",
              "    </tr>\n",
              "    <tr>\n",
              "      <th>1</th>\n",
              "      <td>2011-05-31</td>\n",
              "      <td>6074.982</td>\n",
              "    </tr>\n",
              "    <tr>\n",
              "      <th>2</th>\n",
              "      <td>2011-05-31</td>\n",
              "      <td>2024.994</td>\n",
              "    </tr>\n",
              "    <tr>\n",
              "      <th>3</th>\n",
              "      <td>2011-05-31</td>\n",
              "      <td>2039.994</td>\n",
              "    </tr>\n",
              "    <tr>\n",
              "      <th>4</th>\n",
              "      <td>2011-05-31</td>\n",
              "      <td>2039.994</td>\n",
              "    </tr>\n",
              "  </tbody>\n",
              "</table>\n",
              "</div>"
            ],
            "text/plain": [
              "   OrderDate   Revenue\n",
              "0 2011-05-31  2024.994\n",
              "1 2011-05-31  6074.982\n",
              "2 2011-05-31  2024.994\n",
              "3 2011-05-31  2039.994\n",
              "4 2011-05-31  2039.994"
            ]
          },
          "metadata": {
            "tags": []
          },
          "execution_count": 20
        }
      ]
    },
    {
      "cell_type": "code",
      "metadata": {
        "colab": {
          "base_uri": "https://localhost:8080/",
          "height": 203
        },
        "id": "5Eg9ZZP66eWk",
        "outputId": "c3621415-1c9a-4795-9e7b-e8ed7e23449f"
      },
      "source": [
        "df.tail()"
      ],
      "execution_count": 21,
      "outputs": [
        {
          "output_type": "execute_result",
          "data": {
            "text/html": [
              "<div>\n",
              "<style scoped>\n",
              "    .dataframe tbody tr th:only-of-type {\n",
              "        vertical-align: middle;\n",
              "    }\n",
              "\n",
              "    .dataframe tbody tr th {\n",
              "        vertical-align: top;\n",
              "    }\n",
              "\n",
              "    .dataframe thead th {\n",
              "        text-align: right;\n",
              "    }\n",
              "</style>\n",
              "<table border=\"1\" class=\"dataframe\">\n",
              "  <thead>\n",
              "    <tr style=\"text-align: right;\">\n",
              "      <th></th>\n",
              "      <th>OrderDate</th>\n",
              "      <th>Revenue</th>\n",
              "    </tr>\n",
              "  </thead>\n",
              "  <tbody>\n",
              "    <tr>\n",
              "      <th>79212</th>\n",
              "      <td>2014-06-30</td>\n",
              "      <td>21.98</td>\n",
              "    </tr>\n",
              "    <tr>\n",
              "      <th>79213</th>\n",
              "      <td>2014-06-30</td>\n",
              "      <td>8.99</td>\n",
              "    </tr>\n",
              "    <tr>\n",
              "      <th>79214</th>\n",
              "      <td>2014-06-30</td>\n",
              "      <td>21.98</td>\n",
              "    </tr>\n",
              "    <tr>\n",
              "      <th>79215</th>\n",
              "      <td>2014-06-30</td>\n",
              "      <td>159.00</td>\n",
              "    </tr>\n",
              "    <tr>\n",
              "      <th>79216</th>\n",
              "      <td>2014-06-30</td>\n",
              "      <td>8.99</td>\n",
              "    </tr>\n",
              "  </tbody>\n",
              "</table>\n",
              "</div>"
            ],
            "text/plain": [
              "       OrderDate  Revenue\n",
              "79212 2014-06-30    21.98\n",
              "79213 2014-06-30     8.99\n",
              "79214 2014-06-30    21.98\n",
              "79215 2014-06-30   159.00\n",
              "79216 2014-06-30     8.99"
            ]
          },
          "metadata": {
            "tags": []
          },
          "execution_count": 21
        }
      ]
    },
    {
      "cell_type": "code",
      "metadata": {
        "id": "RSoVZv_T6fSe"
      },
      "source": [
        "df.columns=['ds','y']"
      ],
      "execution_count": 22,
      "outputs": []
    },
    {
      "cell_type": "code",
      "metadata": {
        "colab": {
          "base_uri": "https://localhost:8080/",
          "height": 417
        },
        "id": "C43TKQh867up",
        "outputId": "59b83e68-3180-4ac5-df54-ca31e49ccbbf"
      },
      "source": [
        "df"
      ],
      "execution_count": 23,
      "outputs": [
        {
          "output_type": "execute_result",
          "data": {
            "text/html": [
              "<div>\n",
              "<style scoped>\n",
              "    .dataframe tbody tr th:only-of-type {\n",
              "        vertical-align: middle;\n",
              "    }\n",
              "\n",
              "    .dataframe tbody tr th {\n",
              "        vertical-align: top;\n",
              "    }\n",
              "\n",
              "    .dataframe thead th {\n",
              "        text-align: right;\n",
              "    }\n",
              "</style>\n",
              "<table border=\"1\" class=\"dataframe\">\n",
              "  <thead>\n",
              "    <tr style=\"text-align: right;\">\n",
              "      <th></th>\n",
              "      <th>ds</th>\n",
              "      <th>y</th>\n",
              "    </tr>\n",
              "  </thead>\n",
              "  <tbody>\n",
              "    <tr>\n",
              "      <th>0</th>\n",
              "      <td>2011-05-31</td>\n",
              "      <td>2024.994</td>\n",
              "    </tr>\n",
              "    <tr>\n",
              "      <th>1</th>\n",
              "      <td>2011-05-31</td>\n",
              "      <td>6074.982</td>\n",
              "    </tr>\n",
              "    <tr>\n",
              "      <th>2</th>\n",
              "      <td>2011-05-31</td>\n",
              "      <td>2024.994</td>\n",
              "    </tr>\n",
              "    <tr>\n",
              "      <th>3</th>\n",
              "      <td>2011-05-31</td>\n",
              "      <td>2039.994</td>\n",
              "    </tr>\n",
              "    <tr>\n",
              "      <th>4</th>\n",
              "      <td>2011-05-31</td>\n",
              "      <td>2039.994</td>\n",
              "    </tr>\n",
              "    <tr>\n",
              "      <th>...</th>\n",
              "      <td>...</td>\n",
              "      <td>...</td>\n",
              "    </tr>\n",
              "    <tr>\n",
              "      <th>79212</th>\n",
              "      <td>2014-06-30</td>\n",
              "      <td>21.980</td>\n",
              "    </tr>\n",
              "    <tr>\n",
              "      <th>79213</th>\n",
              "      <td>2014-06-30</td>\n",
              "      <td>8.990</td>\n",
              "    </tr>\n",
              "    <tr>\n",
              "      <th>79214</th>\n",
              "      <td>2014-06-30</td>\n",
              "      <td>21.980</td>\n",
              "    </tr>\n",
              "    <tr>\n",
              "      <th>79215</th>\n",
              "      <td>2014-06-30</td>\n",
              "      <td>159.000</td>\n",
              "    </tr>\n",
              "    <tr>\n",
              "      <th>79216</th>\n",
              "      <td>2014-06-30</td>\n",
              "      <td>8.990</td>\n",
              "    </tr>\n",
              "  </tbody>\n",
              "</table>\n",
              "<p>79217 rows × 2 columns</p>\n",
              "</div>"
            ],
            "text/plain": [
              "              ds         y\n",
              "0     2011-05-31  2024.994\n",
              "1     2011-05-31  6074.982\n",
              "2     2011-05-31  2024.994\n",
              "3     2011-05-31  2039.994\n",
              "4     2011-05-31  2039.994\n",
              "...          ...       ...\n",
              "79212 2014-06-30    21.980\n",
              "79213 2014-06-30     8.990\n",
              "79214 2014-06-30    21.980\n",
              "79215 2014-06-30   159.000\n",
              "79216 2014-06-30     8.990\n",
              "\n",
              "[79217 rows x 2 columns]"
            ]
          },
          "metadata": {
            "tags": []
          },
          "execution_count": 23
        }
      ]
    },
    {
      "cell_type": "code",
      "metadata": {
        "id": "lJrlly5g68V-"
      },
      "source": [
        "m=Prophet(interval_width=0.95,daily_seasonality=True)"
      ],
      "execution_count": 24,
      "outputs": []
    },
    {
      "cell_type": "code",
      "metadata": {
        "colab": {
          "base_uri": "https://localhost:8080/"
        },
        "id": "UbA-uwnm7Fec",
        "outputId": "6cc5a3a3-e006-4835-e6d4-5c0bd1808e65"
      },
      "source": [
        "model=m.fit(df)"
      ],
      "execution_count": 25,
      "outputs": [
        {
          "output_type": "stream",
          "text": [
            "INFO:numexpr.utils:NumExpr defaulting to 2 threads.\n"
          ],
          "name": "stderr"
        }
      ]
    },
    {
      "cell_type": "code",
      "metadata": {
        "id": "lROTA0e37IrM"
      },
      "source": [
        "future=m.make_future_dataframe(periods=1825,freq='D')"
      ],
      "execution_count": 26,
      "outputs": []
    },
    {
      "cell_type": "code",
      "metadata": {
        "id": "faMOaLDn8bqZ"
      },
      "source": [
        "forecast=m.predict(future)"
      ],
      "execution_count": 28,
      "outputs": []
    },
    {
      "cell_type": "code",
      "metadata": {
        "colab": {
          "base_uri": "https://localhost:8080/",
          "height": 374
        },
        "id": "eaNNRP-B8dOZ",
        "outputId": "5af70cc9-9e00-4e82-ac59-a88cdad31e1a"
      },
      "source": [
        "forecast.head()"
      ],
      "execution_count": 29,
      "outputs": [
        {
          "output_type": "execute_result",
          "data": {
            "text/html": [
              "<div>\n",
              "<style scoped>\n",
              "    .dataframe tbody tr th:only-of-type {\n",
              "        vertical-align: middle;\n",
              "    }\n",
              "\n",
              "    .dataframe tbody tr th {\n",
              "        vertical-align: top;\n",
              "    }\n",
              "\n",
              "    .dataframe thead th {\n",
              "        text-align: right;\n",
              "    }\n",
              "</style>\n",
              "<table border=\"1\" class=\"dataframe\">\n",
              "  <thead>\n",
              "    <tr style=\"text-align: right;\">\n",
              "      <th></th>\n",
              "      <th>ds</th>\n",
              "      <th>trend</th>\n",
              "      <th>yhat_lower</th>\n",
              "      <th>yhat_upper</th>\n",
              "      <th>trend_lower</th>\n",
              "      <th>trend_upper</th>\n",
              "      <th>additive_terms</th>\n",
              "      <th>additive_terms_lower</th>\n",
              "      <th>additive_terms_upper</th>\n",
              "      <th>daily</th>\n",
              "      <th>daily_lower</th>\n",
              "      <th>daily_upper</th>\n",
              "      <th>weekly</th>\n",
              "      <th>weekly_lower</th>\n",
              "      <th>weekly_upper</th>\n",
              "      <th>yearly</th>\n",
              "      <th>yearly_lower</th>\n",
              "      <th>yearly_upper</th>\n",
              "      <th>multiplicative_terms</th>\n",
              "      <th>multiplicative_terms_lower</th>\n",
              "      <th>multiplicative_terms_upper</th>\n",
              "      <th>yhat</th>\n",
              "    </tr>\n",
              "  </thead>\n",
              "  <tbody>\n",
              "    <tr>\n",
              "      <th>0</th>\n",
              "      <td>2011-01-06</td>\n",
              "      <td>3201.904272</td>\n",
              "      <td>-1309.224552</td>\n",
              "      <td>5487.123690</td>\n",
              "      <td>3201.904272</td>\n",
              "      <td>3201.904272</td>\n",
              "      <td>-1189.072212</td>\n",
              "      <td>-1189.072212</td>\n",
              "      <td>-1189.072212</td>\n",
              "      <td>-1499.325335</td>\n",
              "      <td>-1499.325335</td>\n",
              "      <td>-1499.325335</td>\n",
              "      <td>-8.702462</td>\n",
              "      <td>-8.702462</td>\n",
              "      <td>-8.702462</td>\n",
              "      <td>318.955585</td>\n",
              "      <td>318.955585</td>\n",
              "      <td>318.955585</td>\n",
              "      <td>0.0</td>\n",
              "      <td>0.0</td>\n",
              "      <td>0.0</td>\n",
              "      <td>2012.832060</td>\n",
              "    </tr>\n",
              "    <tr>\n",
              "      <th>1</th>\n",
              "      <td>2011-01-07</td>\n",
              "      <td>3203.191294</td>\n",
              "      <td>-1301.514194</td>\n",
              "      <td>5627.705631</td>\n",
              "      <td>3203.191294</td>\n",
              "      <td>3203.191294</td>\n",
              "      <td>-1159.057599</td>\n",
              "      <td>-1159.057599</td>\n",
              "      <td>-1159.057599</td>\n",
              "      <td>-1499.325335</td>\n",
              "      <td>-1499.325335</td>\n",
              "      <td>-1499.325335</td>\n",
              "      <td>23.850854</td>\n",
              "      <td>23.850854</td>\n",
              "      <td>23.850854</td>\n",
              "      <td>316.416882</td>\n",
              "      <td>316.416882</td>\n",
              "      <td>316.416882</td>\n",
              "      <td>0.0</td>\n",
              "      <td>0.0</td>\n",
              "      <td>0.0</td>\n",
              "      <td>2044.133696</td>\n",
              "    </tr>\n",
              "    <tr>\n",
              "      <th>2</th>\n",
              "      <td>2011-01-08</td>\n",
              "      <td>3204.478316</td>\n",
              "      <td>-1405.489857</td>\n",
              "      <td>5407.268656</td>\n",
              "      <td>3204.478316</td>\n",
              "      <td>3204.478316</td>\n",
              "      <td>-1303.153289</td>\n",
              "      <td>-1303.153289</td>\n",
              "      <td>-1303.153289</td>\n",
              "      <td>-1499.325335</td>\n",
              "      <td>-1499.325335</td>\n",
              "      <td>-1499.325335</td>\n",
              "      <td>-115.285491</td>\n",
              "      <td>-115.285491</td>\n",
              "      <td>-115.285491</td>\n",
              "      <td>311.457537</td>\n",
              "      <td>311.457537</td>\n",
              "      <td>311.457537</td>\n",
              "      <td>0.0</td>\n",
              "      <td>0.0</td>\n",
              "      <td>0.0</td>\n",
              "      <td>1901.325027</td>\n",
              "    </tr>\n",
              "    <tr>\n",
              "      <th>3</th>\n",
              "      <td>2011-01-10</td>\n",
              "      <td>3207.052360</td>\n",
              "      <td>-1351.628009</td>\n",
              "      <td>5457.480612</td>\n",
              "      <td>3207.052360</td>\n",
              "      <td>3207.052360</td>\n",
              "      <td>-1130.606371</td>\n",
              "      <td>-1130.606371</td>\n",
              "      <td>-1130.606371</td>\n",
              "      <td>-1499.325335</td>\n",
              "      <td>-1499.325335</td>\n",
              "      <td>-1499.325335</td>\n",
              "      <td>73.783403</td>\n",
              "      <td>73.783403</td>\n",
              "      <td>73.783403</td>\n",
              "      <td>294.935561</td>\n",
              "      <td>294.935561</td>\n",
              "      <td>294.935561</td>\n",
              "      <td>0.0</td>\n",
              "      <td>0.0</td>\n",
              "      <td>0.0</td>\n",
              "      <td>2076.445989</td>\n",
              "    </tr>\n",
              "    <tr>\n",
              "      <th>4</th>\n",
              "      <td>2011-01-11</td>\n",
              "      <td>3208.339383</td>\n",
              "      <td>-1589.103408</td>\n",
              "      <td>5322.570841</td>\n",
              "      <td>3208.339383</td>\n",
              "      <td>3208.339383</td>\n",
              "      <td>-1270.653762</td>\n",
              "      <td>-1270.653762</td>\n",
              "      <td>-1270.653762</td>\n",
              "      <td>-1499.325335</td>\n",
              "      <td>-1499.325335</td>\n",
              "      <td>-1499.325335</td>\n",
              "      <td>-55.124846</td>\n",
              "      <td>-55.124846</td>\n",
              "      <td>-55.124846</td>\n",
              "      <td>283.796419</td>\n",
              "      <td>283.796419</td>\n",
              "      <td>283.796419</td>\n",
              "      <td>0.0</td>\n",
              "      <td>0.0</td>\n",
              "      <td>0.0</td>\n",
              "      <td>1937.685620</td>\n",
              "    </tr>\n",
              "  </tbody>\n",
              "</table>\n",
              "</div>"
            ],
            "text/plain": [
              "          ds        trend  ...  multiplicative_terms_upper         yhat\n",
              "0 2011-01-06  3201.904272  ...                         0.0  2012.832060\n",
              "1 2011-01-07  3203.191294  ...                         0.0  2044.133696\n",
              "2 2011-01-08  3204.478316  ...                         0.0  1901.325027\n",
              "3 2011-01-10  3207.052360  ...                         0.0  2076.445989\n",
              "4 2011-01-11  3208.339383  ...                         0.0  1937.685620\n",
              "\n",
              "[5 rows x 22 columns]"
            ]
          },
          "metadata": {
            "tags": []
          },
          "execution_count": 29
        }
      ]
    },
    {
      "cell_type": "code",
      "metadata": {
        "colab": {
          "base_uri": "https://localhost:8080/",
          "height": 307
        },
        "id": "daeL_KkB8yYL",
        "outputId": "7ad5e711-33e0-4f3d-e680-f1c63a2683f4"
      },
      "source": [
        "forecast.tail()"
      ],
      "execution_count": 30,
      "outputs": [
        {
          "output_type": "execute_result",
          "data": {
            "text/html": [
              "<div>\n",
              "<style scoped>\n",
              "    .dataframe tbody tr th:only-of-type {\n",
              "        vertical-align: middle;\n",
              "    }\n",
              "\n",
              "    .dataframe tbody tr th {\n",
              "        vertical-align: top;\n",
              "    }\n",
              "\n",
              "    .dataframe thead th {\n",
              "        text-align: right;\n",
              "    }\n",
              "</style>\n",
              "<table border=\"1\" class=\"dataframe\">\n",
              "  <thead>\n",
              "    <tr style=\"text-align: right;\">\n",
              "      <th></th>\n",
              "      <th>ds</th>\n",
              "      <th>trend</th>\n",
              "      <th>yhat_lower</th>\n",
              "      <th>yhat_upper</th>\n",
              "      <th>trend_lower</th>\n",
              "      <th>trend_upper</th>\n",
              "      <th>additive_terms</th>\n",
              "      <th>additive_terms_lower</th>\n",
              "      <th>additive_terms_upper</th>\n",
              "      <th>daily</th>\n",
              "      <th>daily_lower</th>\n",
              "      <th>daily_upper</th>\n",
              "      <th>weekly</th>\n",
              "      <th>weekly_lower</th>\n",
              "      <th>weekly_upper</th>\n",
              "      <th>yearly</th>\n",
              "      <th>yearly_lower</th>\n",
              "      <th>yearly_upper</th>\n",
              "      <th>multiplicative_terms</th>\n",
              "      <th>multiplicative_terms_lower</th>\n",
              "      <th>multiplicative_terms_upper</th>\n",
              "      <th>yhat</th>\n",
              "    </tr>\n",
              "  </thead>\n",
              "  <tbody>\n",
              "    <tr>\n",
              "      <th>2885</th>\n",
              "      <td>2019-12-01</td>\n",
              "      <td>-1814.749432</td>\n",
              "      <td>-27945.180090</td>\n",
              "      <td>21794.590446</td>\n",
              "      <td>-25855.730619</td>\n",
              "      <td>23141.916383</td>\n",
              "      <td>-1357.802438</td>\n",
              "      <td>-1357.802438</td>\n",
              "      <td>-1357.802438</td>\n",
              "      <td>-1499.325335</td>\n",
              "      <td>-1499.325335</td>\n",
              "      <td>-1499.325335</td>\n",
              "      <td>-59.388687</td>\n",
              "      <td>-59.388687</td>\n",
              "      <td>-59.388687</td>\n",
              "      <td>200.911584</td>\n",
              "      <td>200.911584</td>\n",
              "      <td>200.911584</td>\n",
              "      <td>0.0</td>\n",
              "      <td>0.0</td>\n",
              "      <td>0.0</td>\n",
              "      <td>-3172.551870</td>\n",
              "    </tr>\n",
              "    <tr>\n",
              "      <th>2886</th>\n",
              "      <td>2019-12-02</td>\n",
              "      <td>-1816.592500</td>\n",
              "      <td>-27397.235008</td>\n",
              "      <td>22943.942530</td>\n",
              "      <td>-25882.096133</td>\n",
              "      <td>23154.737360</td>\n",
              "      <td>-1242.035670</td>\n",
              "      <td>-1242.035670</td>\n",
              "      <td>-1242.035670</td>\n",
              "      <td>-1499.325335</td>\n",
              "      <td>-1499.325335</td>\n",
              "      <td>-1499.325335</td>\n",
              "      <td>73.783403</td>\n",
              "      <td>73.783403</td>\n",
              "      <td>73.783403</td>\n",
              "      <td>183.506262</td>\n",
              "      <td>183.506262</td>\n",
              "      <td>183.506262</td>\n",
              "      <td>0.0</td>\n",
              "      <td>0.0</td>\n",
              "      <td>0.0</td>\n",
              "      <td>-3058.628171</td>\n",
              "    </tr>\n",
              "    <tr>\n",
              "      <th>2887</th>\n",
              "      <td>2019-12-03</td>\n",
              "      <td>-1818.435569</td>\n",
              "      <td>-27415.616639</td>\n",
              "      <td>21953.071324</td>\n",
              "      <td>-25908.209939</td>\n",
              "      <td>23167.558336</td>\n",
              "      <td>-1389.117719</td>\n",
              "      <td>-1389.117719</td>\n",
              "      <td>-1389.117719</td>\n",
              "      <td>-1499.325335</td>\n",
              "      <td>-1499.325335</td>\n",
              "      <td>-1499.325335</td>\n",
              "      <td>-55.124846</td>\n",
              "      <td>-55.124846</td>\n",
              "      <td>-55.124846</td>\n",
              "      <td>165.332462</td>\n",
              "      <td>165.332462</td>\n",
              "      <td>165.332462</td>\n",
              "      <td>0.0</td>\n",
              "      <td>0.0</td>\n",
              "      <td>0.0</td>\n",
              "      <td>-3207.553288</td>\n",
              "    </tr>\n",
              "    <tr>\n",
              "      <th>2888</th>\n",
              "      <td>2019-12-04</td>\n",
              "      <td>-1820.278637</td>\n",
              "      <td>-27917.274297</td>\n",
              "      <td>21850.304024</td>\n",
              "      <td>-25934.281265</td>\n",
              "      <td>23180.379313</td>\n",
              "      <td>-1211.663271</td>\n",
              "      <td>-1211.663271</td>\n",
              "      <td>-1211.663271</td>\n",
              "      <td>-1499.325335</td>\n",
              "      <td>-1499.325335</td>\n",
              "      <td>-1499.325335</td>\n",
              "      <td>140.867229</td>\n",
              "      <td>140.867229</td>\n",
              "      <td>140.867229</td>\n",
              "      <td>146.794835</td>\n",
              "      <td>146.794835</td>\n",
              "      <td>146.794835</td>\n",
              "      <td>0.0</td>\n",
              "      <td>0.0</td>\n",
              "      <td>0.0</td>\n",
              "      <td>-3031.941908</td>\n",
              "    </tr>\n",
              "    <tr>\n",
              "      <th>2889</th>\n",
              "      <td>2019-12-05</td>\n",
              "      <td>-1822.121705</td>\n",
              "      <td>-27727.513710</td>\n",
              "      <td>22086.420587</td>\n",
              "      <td>-25960.352591</td>\n",
              "      <td>23193.200289</td>\n",
              "      <td>-1379.716894</td>\n",
              "      <td>-1379.716894</td>\n",
              "      <td>-1379.716894</td>\n",
              "      <td>-1499.325335</td>\n",
              "      <td>-1499.325335</td>\n",
              "      <td>-1499.325335</td>\n",
              "      <td>-8.702462</td>\n",
              "      <td>-8.702462</td>\n",
              "      <td>-8.702462</td>\n",
              "      <td>128.310903</td>\n",
              "      <td>128.310903</td>\n",
              "      <td>128.310903</td>\n",
              "      <td>0.0</td>\n",
              "      <td>0.0</td>\n",
              "      <td>0.0</td>\n",
              "      <td>-3201.838599</td>\n",
              "    </tr>\n",
              "  </tbody>\n",
              "</table>\n",
              "</div>"
            ],
            "text/plain": [
              "             ds        trend  ...  multiplicative_terms_upper         yhat\n",
              "2885 2019-12-01 -1814.749432  ...                         0.0 -3172.551870\n",
              "2886 2019-12-02 -1816.592500  ...                         0.0 -3058.628171\n",
              "2887 2019-12-03 -1818.435569  ...                         0.0 -3207.553288\n",
              "2888 2019-12-04 -1820.278637  ...                         0.0 -3031.941908\n",
              "2889 2019-12-05 -1822.121705  ...                         0.0 -3201.838599\n",
              "\n",
              "[5 rows x 22 columns]"
            ]
          },
          "metadata": {
            "tags": []
          },
          "execution_count": 30
        }
      ]
    },
    {
      "cell_type": "code",
      "metadata": {
        "colab": {
          "base_uri": "https://localhost:8080/",
          "height": 402
        },
        "id": "M7mvzsDH9D7q",
        "outputId": "66218598-dc0b-4ebf-a684-daa32a560c80"
      },
      "source": [
        "plot1=m.plot(forecast)"
      ],
      "execution_count": 31,
      "outputs": [
        {
          "output_type": "display_data",
          "data": {
            "image/png": "[encoded data removed]",
            "text/plain": [
              "<Figure size 720x432 with 1 Axes>"
            ]
          },
          "metadata": {
            "tags": []
          }
        }
      ]
    },
    {
      "cell_type": "code",
      "metadata": {
        "colab": {
          "base_uri": "https://localhost:8080/",
          "height": 873
        },
        "id": "fNNER49s9M4Y",
        "outputId": "c82ad5cf-4db1-4dca-f9f4-7a1763e4fc05"
      },
      "source": [
        "plot2=m.plot_components(forecast)"
      ],
      "execution_count": 32,
      "outputs": [
        {
          "output_type": "display_data",
          "data": {
            "image/png": "[encoded data removed]",
            "text/plain": [
              "<Figure size 648x864 with 4 Axes>"
            ]
          },
          "metadata": {
            "tags": []
          }
        }
      ]
    },
    {
      "cell_type": "code",
      "metadata": {
        "id": "idf5YL5G9TaM"
      },
      "source": [
        ""
      ],
      "execution_count": null,
      "outputs": []
    }
  ]
}